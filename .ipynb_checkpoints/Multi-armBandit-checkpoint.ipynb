{
 "cells": [
  {
   "cell_type": "markdown",
   "metadata": {},
   "source": [
    "# Illustration of multi-arm bandit problem\n",
    "Ie, given k=3 slot machines with different odds of winning, how to you solve the \n",
    "explore/exploit problem.  This is solved in the bayesian context."
   ]
  },
  {
   "cell_type": "code",
   "execution_count": 1,
   "metadata": {
    "collapsed": true
   },
   "outputs": [],
   "source": [
    "%matplotlib inline\n",
    "import numpy as np\n",
    "import matplotlib.pyplot as plt\n",
    "from BayesBandit import Bandit"
   ]
  },
  {
   "cell_type": "code",
   "execution_count": 2,
   "metadata": {
    "collapsed": true
   },
   "outputs": [],
   "source": [
    "def run_experiment(p1,p2,p3,N):\n",
    "    bandits = [Bandit(p1), Bandit(p2), Bandit(p3)]\n",
    "    data = np.empty(N)\n",
    "\n",
    "    for i in xrange(N):\n",
    "        j = np.argmax([b.sample() for b in bandits])\n",
    "        x = bandits[j].pull()\n",
    "        bandits[j].update(x)\n",
    "        data[i] = x\n",
    "\n",
    "    cumulative_avg_ctr = np.cumsum(data) / (np.arange(N)+1)\n",
    "\n",
    "    plt.plot(cumulative_avg_ctr)\n",
    "    plt.plot(np.ones(N) * p1)\n",
    "    plt.plot(np.ones(N) * p2)\n",
    "    plt.plot(np.ones(N) * p3)\n",
    "    plt.ylim((0,1))\n",
    "    plt.xscale('log')\n",
    "    plt.show()\n"
   ]
  },
  {
   "cell_type": "code",
   "execution_count": 3,
   "metadata": {
    "collapsed": false
   },
   "outputs": [
    {
     "data": {
      "image/png": "[encoded data removed]",
      "text/plain": [
       "<matplotlib.figure.Figure at 0x10daac850>"
      ]
     },
     "metadata": {},
     "output_type": "display_data"
    }
   ],
   "source": [
    "run_experiment(0.2, 0.25, 0.3, 100000)\n"
   ]
  },
  {
   "cell_type": "markdown",
   "metadata": {},
   "source": [
    "# Demonstrates convergence of the multi-arm bandit problem to best 'slot machine'"
   ]
  },
  {
   "cell_type": "code",
   "execution_count": null,
   "metadata": {
    "collapsed": true
   },
   "outputs": [],
   "source": []
  }
 ],
 "metadata": {
  "kernelspec": {
   "display_name": "Python 2",
   "language": "python",
   "name": "python2"
  },
  "language_info": {
   "codemirror_mode": {
    "name": "ipython",
    "version": 2
   },
   "file_extension": ".py",
   "mimetype": "text/x-python",
   "name": "python",
   "nbconvert_exporter": "python",
   "pygments_lexer": "ipython2",
   "version": "2.7.13"
  }
 },
 "nbformat": 4,
 "nbformat_minor": 2
}
